{
 "cells": [
  {
   "cell_type": "markdown",
   "metadata": {
    "slideshow": {
     "slide_type": "slide"
    }
   },
   "source": [
    "# Laser Inertial Confinement Fusion (ICF)\n",
    "## Jacob Shin\n",
    "### 11/11/2022\n"
   ]
  },
  {
   "cell_type": "markdown",
   "metadata": {
    "slideshow": {
     "slide_type": "slide"
    }
   },
   "source": [
    "\n",
    "<img src=\"https://media.tenor.com/dn9TsELSZyUAAAAd/the-power-of-the-sun-in-the-palm-of-my-hand-doctor-octopus.gif\" alt=\"Dr. Oct\" width=\"2000\"/>\n",
    "\n"
   ]
  },
  {
   "cell_type": "markdown",
   "metadata": {
    "slideshow": {
     "slide_type": "slide"
    }
   },
   "source": [
    "* Two lighter nuclei combine and form a heavier, more stable nuclei\n",
    "* Releases a lot of energy\n",
    "\n",
    "$$ E = \\Delta m c^2 $$\n",
    "\n",
    "<table><tr>\n",
    "<td> <img src=\"https://upload.wikimedia.org/wikipedia/commons/thumb/3/3b/Deuterium-tritium_fusion.svg/800px-Deuterium-tritium_fusion.svg.png\" alt=\"Binding Energy Curve\" width=\"300\"/> </td>\n",
    "<td>\n",
    "<img src=\"https://upload.wikimedia.org/wikipedia/commons/thumb/5/53/Binding_energy_curve_-_common_isotopes.svg/800px-Binding_energy_curve_-_common_isotopes.svg.png\" alt=\"Binding Energy Curve\" width=\"800\"/> </td>\n",
    "</tr></table>\n"
   ]
  },
  {
   "cell_type": "markdown",
   "metadata": {
    "slideshow": {
     "slide_type": "slide"
    }
   },
   "source": [
    "# Ways of doing Fusion\n",
    "* The two nuceli must overcome colomb repulsion before the strong force kicks in\n",
    "* This means you have some force that confines the nuclei\n",
    "\n",
    "<table><tr>\n",
    "<td> Gravity <img src=\"https://solarsystem.nasa.gov/system/basic_html_elements/11561_Sun.png\" alt=\"Sun\" style=\"width: 250px;\"/> </td>\n",
    "<td> Magnets <img src=\"https://www.iter.org/img/resize-900-90/www/content/com/Lists/Machine/Attachments/30/tkm_cplx_final_plasma2013-07.jpg\" alt=\"ITER\" style=\"width: 500px;\"/> </td>\n",
    "<td> Lasers <img src=\"https://upload.wikimedia.org/wikipedia/commons/thumb/e/ed/Preamplifier_at_the_National_Ignition_Facility.jpg/400px-Preamplifier_at_the_National_Ignition_Facility.jpg\" alt=\"NIF\" style=\"width: 500px;\"/> </td>\n",
    "</tr></table>\n"
   ]
  },
  {
   "cell_type": "markdown",
   "metadata": {
    "slideshow": {
     "slide_type": "slide"
    }
   },
   "source": [
    "* In order for a fusion reactor to be useful, it has to produce more energy than what we put in:\n",
    "\n",
    "$$Q = \\frac{\\text{Energy Released by Fusion}}{\\text{Input Energy}}$$\n",
    "\n",
    "\n",
    "$$Q_{fuel} = \\frac{\\text{Energy Released by Fusion}}{\\text{Energy Absorbed by Fuel}}$$\n"
   ]
  },
  {
   "cell_type": "markdown",
   "metadata": {
    "slideshow": {
     "slide_type": "slide"
    }
   },
   "source": [
    "## Lawson Criteria/Triple Product\n",
    "$$ nT\\tau_E \\ge \\frac{3T^2}{(f_c +  Q_{fuel}^{-1} ) ⟨\\sigma v⟩ \\epsilon_f/4 - C_B \\sqrt{T} } $$\n",
    "<!-- $$ n\\tau_E \\ge \\frac{12T}{(f_c + \\eta Q_{fuel}^{-1} ) ⟨\\sigma v⟩ \\epsilon_f } $$ -->\n",
    "* While running a fusion reactor, some of the energy is lost\n",
    "* $n$ is the density of the fuel\n",
    "* $T$ is the temperature of the fuel\n",
    "* $\\tau_E$ is the confinement time, which tells you how long to keep the fuel confined together\n",
    "* $v$ is the fuel particles' velocity\n",
    "* $f_c$, $\\sigma$, $C_B$, $\\eta$, $\\epsilon_F$  are all constants that depends on the fuel\n"
   ]
  },
  {
   "cell_type": "code",
   "execution_count": 41,
   "metadata": {
    "slideshow": {
     "slide_type": "slide"
    }
   },
   "outputs": [
    {
     "data": {
      "text/html": [
       "<blockquote class=\"twitter-tweet\"><p lang=\"en\" dir=\"ltr\">&quot;Progress toward fusion energy breakeven and gain as measured against the Lawson criterion&quot; by <a href=\"https://twitter.com/ScottCHsu?ref_src=twsrc%5Etfw\">@ScottCHsu</a> and myself is published (open access)! GIF of achieved Lawson parameter vs temperature below shows the progress. <a href=\"https://t.co/VKFM1XubXR\">https://t.co/VKFM1XubXR</a> <a href=\"https://twitter.com/hashtag/fusionenergy?src=hash&amp;ref_src=twsrc%5Etfw\">#fusionenergy</a> <a href=\"https://twitter.com/ARPAE?ref_src=twsrc%5Etfw\">@ARPAE</a> <a href=\"https://twitter.com/AIP_Publishing?ref_src=twsrc%5Etfw\">@AIP_Publishing</a> <a href=\"https://t.co/P1oNjLB8ZN\">pic.twitter.com/P1oNjLB8ZN</a></p>&mdash; Sam Wurzel (@swurzel) <a href=\"https://twitter.com/swurzel/status/1534556521744457731?ref_src=twsrc%5Etfw\">June 8, 2022</a></blockquote> <script async src=\"https://platform.twitter.com/widgets.js\" charset=\"utf-8\"></script> "
      ],
      "text/plain": [
       "<IPython.core.display.HTML object>"
      ]
     },
     "execution_count": 41,
     "metadata": {},
     "output_type": "execute_result"
    }
   ],
   "source": [
    "from IPython.display import HTML; HTML('<blockquote class=\"twitter-tweet\"><p lang=\"en\" dir=\"ltr\">&quot;Progress toward fusion energy breakeven and gain as measured against the Lawson criterion&quot; by <a href=\"https://twitter.com/ScottCHsu?ref_src=twsrc%5Etfw\">@ScottCHsu</a> and myself is published (open access)! GIF of achieved Lawson parameter vs temperature below shows the progress. <a href=\"https://t.co/VKFM1XubXR\">https://t.co/VKFM1XubXR</a> <a href=\"https://twitter.com/hashtag/fusionenergy?src=hash&amp;ref_src=twsrc%5Etfw\">#fusionenergy</a> <a href=\"https://twitter.com/ARPAE?ref_src=twsrc%5Etfw\">@ARPAE</a> <a href=\"https://twitter.com/AIP_Publishing?ref_src=twsrc%5Etfw\">@AIP_Publishing</a> <a href=\"https://t.co/P1oNjLB8ZN\">pic.twitter.com/P1oNjLB8ZN</a></p>&mdash; Sam Wurzel (@swurzel) <a href=\"https://twitter.com/swurzel/status/1534556521744457731?ref_src=twsrc%5Etfw\">June 8, 2022</a></blockquote> <script async src=\"https://platform.twitter.com/widgets.js\" charset=\"utf-8\"></script> ')"
   ]
  },
  {
   "cell_type": "markdown",
   "metadata": {
    "slideshow": {
     "slide_type": "slide"
    }
   },
   "source": [
    "# ICF\n",
    "\n",
    "<table><tr>\n",
    "<td> <img src=\"https://cdn.discordapp.com/attachments/738573420035571864/1040473159306072064/icf.PNG\" alt=\"Laser ICF\" width=\"500\"/> </td>\n",
    "<td>  \n",
    "<img src=\" https://nap.nationalacademies.org/openbook/18288/xhtml/images/fig2-3.jpg\" alt=\"Laser ICF\" width=\"500\"/>\n",
    "\n",
    " </td>\n",
    "</tr></table>\n",
    "\n"
   ]
  },
  {
   "cell_type": "markdown",
   "metadata": {
    "slideshow": {
     "slide_type": "slide"
    }
   },
   "source": [
    "# Direct Drive vs. Indirect Drive\n",
    "<table><tr>\n",
    "<td> <img src=\"https://cdn.discordapp.com/attachments/738573420035571864/1040474694219997194/drives.PNG\" alt=\"Different ICF methods\" width=\"800\"/> </td>\n",
    "</tr></table>\n",
    "\n",
    "* Direct Drive is 8% efficient, but harder to get spherical symmetry\n",
    "* Indirect Drive is only 4% efficient, allows for more symmetric implosion and less instabilities"
   ]
  },
  {
   "cell_type": "markdown",
   "metadata": {
    "slideshow": {
     "slide_type": "slide"
    }
   },
   "source": [
    "<img src=\"https://nap.nationalacademies.org/openbook/18288/xhtml/images/fig2-2.jpg\" width=\"700\"/>"
   ]
  },
  {
   "cell_type": "markdown",
   "metadata": {
    "slideshow": {
     "slide_type": "slide"
    }
   },
   "source": [
    "$$ P dV = T dS - dU$$\n",
    "* Minimize work\n",
    "* Images from https://suli.pppl.gov/2020/course/Ma_IFE_SULI2020_20200626.pdf\n",
    "\n",
    "<table><tr>\n",
    "<td> <img src=\"https://cdn.discordapp.com/attachments/738573420035571864/1040500524878938212/pv.PNG\" alt=\"Different ICF methods\" width=\"450\"/> </td>\n",
    "    <td> <img src=\"https://cdn.discordapp.com/attachments/738573420035571864/1040500525185126410/shocks.PNG\" alt=\"Different ICF methods\" width=\"800\"/> </td>\n",
    "</tr></table>"
   ]
  },
  {
   "cell_type": "markdown",
   "metadata": {
    "slideshow": {
     "slide_type": "slide"
    }
   },
   "source": [
    "<img src=\"https://upload.wikimedia.org/wikipedia/commons/thumb/3/3d/NIF_building_layout.png/800px-NIF_building_layout.png?20100811234258\" width=\"1000\"/>\n",
    "\n",
    "Source: https://en.wikipedia.org/wiki/National_Ignition_Facility#/media/File:NIF_building_layout.png"
   ]
  },
  {
   "cell_type": "markdown",
   "metadata": {
    "slideshow": {
     "slide_type": "slide"
    }
   },
   "source": [
    "# National Ignition Facility (NIF): World's Largest Laser\n",
    "* UV Laser: 1.8 megajoules\n",
    "* UV Laser Peak Power: 500 TW\n",
    "* 100 times density of lead at ignition\n",
    "* 100 million kelvins (6 times Temp at core of the sun)\n",
    "* More Fun facts: https://lasers.llnl.gov/content/assets/docs/news/pk_fun_facts2.pdf"
   ]
  },
  {
   "cell_type": "markdown",
   "metadata": {
    "slideshow": {
     "slide_type": "slide"
    }
   },
   "source": [
    "<table><tr>\n",
    "<td>\n",
    "    <img src=\"https://lasers.llnl.gov/content/assets/images/about/how_nif_works/oscillator.jpg\" width=\"500\"/>\n",
    "    </td>\n",
    "    <td>\n",
    "<img src=\"https://lasers.llnl.gov/content/assets/images/about/how_nif_works/nif-shot-capacitor.jpg\" width=\"500\"/>\n",
    "    </td>\n",
    "</tr></table>\n",
    "    \n",
    "```\n",
    "Capacitance = 0.290 farads\n",
    "Operating Voltage = 24 kV\n",
    "Peak Discharge Current = 25 kA\n",
    "400 megajoules—the world's largest capacitor bank\n",
    "3,840 high-voltage capacitors\n",
    "```"
   ]
  },
  {
   "cell_type": "markdown",
   "metadata": {
    "slideshow": {
     "slide_type": "slide"
    }
   },
   "source": [
    "<table><tr>\n",
    "<td> <img src=\"https://lasers.llnl.gov/content/assets/images/about/how_nif_works/flashlamp.jpg\" width=\"500\"/>\n",
    " </td>\n",
    "    <td> <img src=\"https://lasers.llnl.gov/content/assets/images/about/power_amplifier.jpg\" width=\"500\"/>\n",
    " </td>\n",
    "</tr></table>"
   ]
  },
  {
   "cell_type": "markdown",
   "metadata": {
    "slideshow": {
     "slide_type": "slide"
    }
   },
   "source": [
    "<img src=\"https://lasers.llnl.gov/content/assets/images/about/2013-047987.jpg\" width=\"900\"/>\n",
    "Source: https://lasers.llnl.gov/content/assets/images/about/"
   ]
  },
  {
   "cell_type": "markdown",
   "metadata": {
    "slideshow": {
     "slide_type": "slide"
    }
   },
   "source": [
    "# Pockell Cell, Main Amplifier, and Polarizer\n",
    "\n",
    "<figure>\n",
    "<img src=\"https://cdn.discordapp.com/attachments/738573420035571864/1038570614677585950/pepc.PNG\" width=\"600\">\n",
    "</figure>\n",
    "\n",
    "\n"
   ]
  },
  {
   "cell_type": "markdown",
   "metadata": {
    "slideshow": {
     "slide_type": "subslide"
    }
   },
   "source": [
    "* KDP (Potassium Diphosphate) is birefringent -- has two different indices of refraction \n",
    "* KDP experiences Pockell's Effect\n",
    "    * If an electric field is applied to the crystal, the index of refraction changes\n",
    "    $$|\\Delta n| = \\frac{r}{2} n_0^3 E $$\n",
    "    \n",
    "    where $r$ is the an electro-optical coefficient for KDP and $n_0$ is the initial index of refraction at $E=0$, and $\\Delta n$ is the change in index of refraction"
   ]
  },
  {
   "cell_type": "markdown",
   "metadata": {
    "slideshow": {
     "slide_type": "slide"
    }
   },
   "source": [
    "<img src=\"https://cdn.discordapp.com/attachments/738573420035571864/1040525600944820255/pockelcell.PNG\" width=\"400\">"
   ]
  },
  {
   "cell_type": "markdown",
   "metadata": {
    "slideshow": {
     "slide_type": "slide"
    }
   },
   "source": [
    "* Plasmas are ionized gases - highly conductive due to the free electrons present\n",
    "* Density of electrons, $n_e$, determines reflectivity\n",
    "$$ \\omega_p = 2\\pi f_p = \\sqrt{\\frac{n_e e^2}{\\epsilon_0 m_e}}$$\n",
    "\n",
    "* When the frequency of incoming light, $f_i$, is greater than the plasma frequency, then there is transmission of the light through the plasma\n",
    "$$ f_i > f_p $$\n",
    "\n",
    "This explains why AM radio waves bounce off of the ionosphere ($n_e \\approx 10^{11}$), why metals are reflective and shiny ($n_e \\approx 10^{28}$), and why the surface of the sun isn't shiny ($n_e \\approx 10^{20}$), and why helium plasma is used for the Pockell cell ($n_e \\approx 10^{18}$)"
   ]
  },
  {
   "cell_type": "markdown",
   "metadata": {
    "slideshow": {
     "slide_type": "slide"
    }
   },
   "source": [
    "* $ n_e = 10^{12} \\ cm^{-3} = 10^{18} m^{-3}$, $e=1.6 \\times 10^{-19}\\ C$, $m_e = 9.10 \\times 10^{-31} \\ kg$, $\\epsilon_0 = 8.85 \\times 10^{-12}$\n",
    "* $\\lambda_i=1053\\ nm$\n",
    "\n",
    "$$ f_p = \\frac{1}{2\\pi} \\sqrt{\\frac{10^{18} \\cdot (1.6 \\times 10^{-19})^2}{8.85 \\times 10^{-12} \\cdot 9.10 \\times 10^{-31}}} = 8.9 \\ GHz$$\n",
    "\n",
    "$$ f_i = \\frac{c}{\\lambda_i} = 285 \\ THz$$\n",
    "Thus $f_i >> f_p$ means the laser will be transmitted through the helium plasma"
   ]
  },
  {
   "cell_type": "markdown",
   "metadata": {
    "slideshow": {
     "slide_type": "slide"
    }
   },
   "source": [
    "<img src=\"https://lasers.llnl.gov/content/assets/images/about/how_nif_works/foa_illustration.jpg\" width=\"800\"/>"
   ]
  },
  {
   "cell_type": "markdown",
   "metadata": {
    "slideshow": {
     "slide_type": "subslide"
    }
   },
   "source": [
    "# Second Harmonic Generation\n",
    "$$ P_2 = \\epsilon_0 \\chi_2 E^2 $$\n",
    "$$ E = E_0 \\cos \\omega t$$\n",
    "$$ \\implies P_2 = \\epsilon_0 \\chi_2 E_0^2 \\cos^2 \\omega t = \\epsilon_0 \\chi_2 \\epsilon_0^2 \\left(\\frac{1}{2}(1+ \\cos 2 \\omega t)\\right)$$\n",
    "Using double angle formulas, we get the following:\n",
    "\n",
    "$$ P_2 = \\frac{1}{2} \\epsilon_0 \\chi_2 E_0^2 + \\frac{1}{2} \\epsilon_0 \\chi_2 E_0^2 \\cos 2 \\omega t$$"
   ]
  },
  {
   "cell_type": "markdown",
   "metadata": {
    "slideshow": {
     "slide_type": "slide"
    }
   },
   "source": [
    "# KDP\n",
    "\n",
    "<table><tr>\n",
    "<td> <img src=\"https://upload.wikimedia.org/wikipedia/commons/thumb/d/d9/KDP_crystal.jpg/782px-KDP_crystal.jpg?20140523122236w\" width=\"500\"/> </td>\n",
    "    <td><img src=\"https://www.photonics.com/images/Web/Articles/2007/8/28/CCBoules.jpg\" width=\"500\"/></td>\n",
    "</tr></table>\n"
   ]
  },
  {
   "cell_type": "markdown",
   "metadata": {
    "slideshow": {
     "slide_type": "slide"
    }
   },
   "source": [
    "# Spatial Filters\n",
    "\n",
    "<img src=\"https://lasers.llnl.gov/content/assets/images/media/photo-gallery/medium/nif-1209-18045.jpg\" width=\"400\"/>\n"
   ]
  },
  {
   "cell_type": "markdown",
   "metadata": {
    "slideshow": {
     "slide_type": "slide"
    }
   },
   "source": [
    "# Why is Fusion Hard?\n",
    "* Instabilities/Turbulence: Rayleigh Taylor, Kelvin-Helmholtz, Richtmyer–Meshkov, Wakes\n",
    "* Scattering: Laser light entering the hohlrahm gets scattered (absorbed by electrons and gold plasma), which reduces the energy that reaches the fuel\n",
    "    * Stimulated Raman Scattering (SRS)\n",
    "    * Stimulated Brillouin Scattering (SBS)"
   ]
  },
  {
   "cell_type": "markdown",
   "metadata": {
    "slideshow": {
     "slide_type": "slide"
    }
   },
   "source": [
    "# Raman Scattering\n",
    "* (Spontaneous) Incoming laser photon scatters inelastically\n",
    "    * The photon from the laser (called a pump photon) is inelastically scattered with some energy transferred into vibrational energy in the  molecule\n",
    "    * The remaining photon has a lower energy (lower frequency) -- Called the stoke's photon\n",
    "* (Stimluated) Some of the stoke's photons emitted from spontaneous Raman scattering act as seed photons\n",
    "    * Pump photon + stokes photons interact with molecules and cause vibrations"
   ]
  },
  {
   "cell_type": "markdown",
   "metadata": {
    "slideshow": {
     "slide_type": "slide"
    }
   },
   "source": [
    "# Wakes\n",
    "* Wakes can be used for particle accelerators!\n",
    "* Wakefield: 1GeV with only 3.3 cm, SLAC: 64 meters\n",
    "\n",
    "<table>\n",
    "    <td>\n",
    "<img src=\"https://upload.wikimedia.org/wikipedia/commons/thumb/5/5c/Fjordn_surface_wave_boat.jpg/1024px-Fjordn_surface_wave_boat.jpg\" width=\"700\"/>\n",
    "    </td>\n",
    "    <td>\n",
    "<img src=\"https://thumbs.gfycat.com/AlarmedBountifulBeardedcollie-max-1mb.gif\" width=\"300\"/>\n",
    "    </td>\n",
    "</table>"
   ]
  },
  {
   "cell_type": "code",
   "execution_count": 48,
   "metadata": {
    "scrolled": true,
    "slideshow": {
     "slide_type": "slide"
    }
   },
   "outputs": [
    {
     "name": "stdout",
     "output_type": "stream",
     "text": [
      "Loaded simulation '.'\n",
      "Scanning for Scalar diagnostics\n",
      "Scanning for Field diagnostics\n",
      "Scanning for Probe diagnostics\n",
      "Scanning for ParticleBinning diagnostics\n",
      "Scanning for RadiationSpectrum diagnostics\n",
      "Scanning for Performance diagnostics\n",
      "Scanning for Screen diagnostics\n",
      "Scanning for Tracked particle diagnostics\n"
     ]
    }
   ],
   "source": [
    "import matplotlib.pyplot as plt\n",
    "%matplotlib notebook\n",
    "import happi; S=happi.Open(); Rho = S.Field.Field0(\"-Rho\",cmap=\"Blues_r\",vmax=0.01); Env_E = S.Field.Field0(\"Env_E_abs\",cmap=\"hot\",vmin=1,transparent=\"under\")"
   ]
  },
  {
   "cell_type": "code",
   "execution_count": 49,
   "metadata": {
    "slideshow": {
     "slide_type": "slide"
    }
   },
   "outputs": [
    {
     "data": {
      "application/javascript": [
       "/* Put everything inside the global mpl namespace */\n",
       "/* global mpl */\n",
       "window.mpl = {};\n",
       "\n",
       "mpl.get_websocket_type = function () {\n",
       "    if (typeof WebSocket !== 'undefined') {\n",
       "        return WebSocket;\n",
       "    } else if (typeof MozWebSocket !== 'undefined') {\n",
       "        return MozWebSocket;\n",
       "    } else {\n",
       "        alert(\n",
       "            'Your browser does not have WebSocket support. ' +\n",
       "                'Please try Chrome, Safari or Firefox ≥ 6. ' +\n",
       "                'Firefox 4 and 5 are also supported but you ' +\n",
       "                'have to enable WebSockets in about:config.'\n",
       "        );\n",
       "    }\n",
       "};\n",
       "\n",
       "mpl.figure = function (figure_id, websocket, ondownload, parent_element) {\n",
       "    this.id = figure_id;\n",
       "\n",
       "    this.ws = websocket;\n",
       "\n",
       "    this.supports_binary = this.ws.binaryType !== undefined;\n",
       "\n",
       "    if (!this.supports_binary) {\n",
       "        var warnings = document.getElementById('mpl-warnings');\n",
       "        if (warnings) {\n",
       "            warnings.style.display = 'block';\n",
       "            warnings.textContent =\n",
       "                'This browser does not support binary websocket messages. ' +\n",
       "                'Performance may be slow.';\n",
       "        }\n",
       "    }\n",
       "\n",
       "    this.imageObj = new Image();\n",
       "\n",
       "    this.context = undefined;\n",
       "    this.message = undefined;\n",
       "    this.canvas = undefined;\n",
       "    this.rubberband_canvas = undefined;\n",
       "    this.rubberband_context = undefined;\n",
       "    this.format_dropdown = undefined;\n",
       "\n",
       "    this.image_mode = 'full';\n",
       "\n",
       "    this.root = document.createElement('div');\n",
       "    this.root.setAttribute('style', 'display: inline-block');\n",
       "    this._root_extra_style(this.root);\n",
       "\n",
       "    parent_element.appendChild(this.root);\n",
       "\n",
       "    this._init_header(this);\n",
       "    this._init_canvas(this);\n",
       "    this._init_toolbar(this);\n",
       "\n",
       "    var fig = this;\n",
       "\n",
       "    this.waiting = false;\n",
       "\n",
       "    this.ws.onopen = function () {\n",
       "        fig.send_message('supports_binary', { value: fig.supports_binary });\n",
       "        fig.send_message('send_image_mode', {});\n",
       "        if (fig.ratio !== 1) {\n",
       "            fig.send_message('set_device_pixel_ratio', {\n",
       "                device_pixel_ratio: fig.ratio,\n",
       "            });\n",
       "        }\n",
       "        fig.send_message('refresh', {});\n",
       "    };\n",
       "\n",
       "    this.imageObj.onload = function () {\n",
       "        if (fig.image_mode === 'full') {\n",
       "            // Full images could contain transparency (where diff images\n",
       "            // almost always do), so we need to clear the canvas so that\n",
       "            // there is no ghosting.\n",
       "            fig.context.clearRect(0, 0, fig.canvas.width, fig.canvas.height);\n",
       "        }\n",
       "        fig.context.drawImage(fig.imageObj, 0, 0);\n",
       "    };\n",
       "\n",
       "    this.imageObj.onunload = function () {\n",
       "        fig.ws.close();\n",
       "    };\n",
       "\n",
       "    this.ws.onmessage = this._make_on_message_function(this);\n",
       "\n",
       "    this.ondownload = ondownload;\n",
       "};\n",
       "\n",
       "mpl.figure.prototype._init_header = function () {\n",
       "    var titlebar = document.createElement('div');\n",
       "    titlebar.classList =\n",
       "        'ui-dialog-titlebar ui-widget-header ui-corner-all ui-helper-clearfix';\n",
       "    var titletext = document.createElement('div');\n",
       "    titletext.classList = 'ui-dialog-title';\n",
       "    titletext.setAttribute(\n",
       "        'style',\n",
       "        'width: 100%; text-align: center; padding: 3px;'\n",
       "    );\n",
       "    titlebar.appendChild(titletext);\n",
       "    this.root.appendChild(titlebar);\n",
       "    this.header = titletext;\n",
       "};\n",
       "\n",
       "mpl.figure.prototype._canvas_extra_style = function (_canvas_div) {};\n",
       "\n",
       "mpl.figure.prototype._root_extra_style = function (_canvas_div) {};\n",
       "\n",
       "mpl.figure.prototype._init_canvas = function () {\n",
       "    var fig = this;\n",
       "\n",
       "    var canvas_div = (this.canvas_div = document.createElement('div'));\n",
       "    canvas_div.setAttribute('tabindex', '0');\n",
       "    canvas_div.setAttribute(\n",
       "        'style',\n",
       "        'border: 1px solid #ddd;' +\n",
       "            'box-sizing: content-box;' +\n",
       "            'clear: both;' +\n",
       "            'min-height: 1px;' +\n",
       "            'min-width: 1px;' +\n",
       "            'outline: 0;' +\n",
       "            'overflow: hidden;' +\n",
       "            'position: relative;' +\n",
       "            'resize: both;' +\n",
       "            'z-index: 2;'\n",
       "    );\n",
       "\n",
       "    function on_keyboard_event_closure(name) {\n",
       "        return function (event) {\n",
       "            return fig.key_event(event, name);\n",
       "        };\n",
       "    }\n",
       "\n",
       "    canvas_div.addEventListener(\n",
       "        'keydown',\n",
       "        on_keyboard_event_closure('key_press')\n",
       "    );\n",
       "    canvas_div.addEventListener(\n",
       "        'keyup',\n",
       "        on_keyboard_event_closure('key_release')\n",
       "    );\n",
       "\n",
       "    this._canvas_extra_style(canvas_div);\n",
       "    this.root.appendChild(canvas_div);\n",
       "\n",
       "    var canvas = (this.canvas = document.createElement('canvas'));\n",
       "    canvas.classList.add('mpl-canvas');\n",
       "    canvas.setAttribute(\n",
       "        'style',\n",
       "        'box-sizing: content-box;' +\n",
       "            'pointer-events: none;' +\n",
       "            'position: relative;' +\n",
       "            'z-index: 0;'\n",
       "    );\n",
       "\n",
       "    this.context = canvas.getContext('2d');\n",
       "\n",
       "    var backingStore =\n",
       "        this.context.backingStorePixelRatio ||\n",
       "        this.context.webkitBackingStorePixelRatio ||\n",
       "        this.context.mozBackingStorePixelRatio ||\n",
       "        this.context.msBackingStorePixelRatio ||\n",
       "        this.context.oBackingStorePixelRatio ||\n",
       "        this.context.backingStorePixelRatio ||\n",
       "        1;\n",
       "\n",
       "    this.ratio = (window.devicePixelRatio || 1) / backingStore;\n",
       "\n",
       "    var rubberband_canvas = (this.rubberband_canvas = document.createElement(\n",
       "        'canvas'\n",
       "    ));\n",
       "    rubberband_canvas.setAttribute(\n",
       "        'style',\n",
       "        'box-sizing: content-box;' +\n",
       "            'left: 0;' +\n",
       "            'pointer-events: none;' +\n",
       "            'position: absolute;' +\n",
       "            'top: 0;' +\n",
       "            'z-index: 1;'\n",
       "    );\n",
       "\n",
       "    // Apply a ponyfill if ResizeObserver is not implemented by browser.\n",
       "    if (this.ResizeObserver === undefined) {\n",
       "        if (window.ResizeObserver !== undefined) {\n",
       "            this.ResizeObserver = window.ResizeObserver;\n",
       "        } else {\n",
       "            var obs = _JSXTOOLS_RESIZE_OBSERVER({});\n",
       "            this.ResizeObserver = obs.ResizeObserver;\n",
       "        }\n",
       "    }\n",
       "\n",
       "    this.resizeObserverInstance = new this.ResizeObserver(function (entries) {\n",
       "        var nentries = entries.length;\n",
       "        for (var i = 0; i < nentries; i++) {\n",
       "            var entry = entries[i];\n",
       "            var width, height;\n",
       "            if (entry.contentBoxSize) {\n",
       "                if (entry.contentBoxSize instanceof Array) {\n",
       "                    // Chrome 84 implements new version of spec.\n",
       "                    width = entry.contentBoxSize[0].inlineSize;\n",
       "                    height = entry.contentBoxSize[0].blockSize;\n",
       "                } else {\n",
       "                    // Firefox implements old version of spec.\n",
       "                    width = entry.contentBoxSize.inlineSize;\n",
       "                    height = entry.contentBoxSize.blockSize;\n",
       "                }\n",
       "            } else {\n",
       "                // Chrome <84 implements even older version of spec.\n",
       "                width = entry.contentRect.width;\n",
       "                height = entry.contentRect.height;\n",
       "            }\n",
       "\n",
       "            // Keep the size of the canvas and rubber band canvas in sync with\n",
       "            // the canvas container.\n",
       "            if (entry.devicePixelContentBoxSize) {\n",
       "                // Chrome 84 implements new version of spec.\n",
       "                canvas.setAttribute(\n",
       "                    'width',\n",
       "                    entry.devicePixelContentBoxSize[0].inlineSize\n",
       "                );\n",
       "                canvas.setAttribute(\n",
       "                    'height',\n",
       "                    entry.devicePixelContentBoxSize[0].blockSize\n",
       "                );\n",
       "            } else {\n",
       "                canvas.setAttribute('width', width * fig.ratio);\n",
       "                canvas.setAttribute('height', height * fig.ratio);\n",
       "            }\n",
       "            /* This rescales the canvas back to display pixels, so that it\n",
       "             * appears correct on HiDPI screens. */\n",
       "            canvas.style.width = width + 'px';\n",
       "            canvas.style.height = height + 'px';\n",
       "\n",
       "            rubberband_canvas.setAttribute('width', width);\n",
       "            rubberband_canvas.setAttribute('height', height);\n",
       "\n",
       "            // And update the size in Python. We ignore the initial 0/0 size\n",
       "            // that occurs as the element is placed into the DOM, which should\n",
       "            // otherwise not happen due to the minimum size styling.\n",
       "            if (fig.ws.readyState == 1 && width != 0 && height != 0) {\n",
       "                fig.request_resize(width, height);\n",
       "            }\n",
       "        }\n",
       "    });\n",
       "    this.resizeObserverInstance.observe(canvas_div);\n",
       "\n",
       "    function on_mouse_event_closure(name) {\n",
       "        /* User Agent sniffing is bad, but WebKit is busted:\n",
       "         * https://bugs.webkit.org/show_bug.cgi?id=144526\n",
       "         * https://bugs.webkit.org/show_bug.cgi?id=181818\n",
       "         * The worst that happens here is that they get an extra browser\n",
       "         * selection when dragging, if this check fails to catch them.\n",
       "         */\n",
       "        var UA = navigator.userAgent;\n",
       "        var isWebKit = /AppleWebKit/.test(UA) && !/Chrome/.test(UA);\n",
       "        if(isWebKit) {\n",
       "            return function (event) {\n",
       "                /* This prevents the web browser from automatically changing to\n",
       "                 * the text insertion cursor when the button is pressed. We\n",
       "                 * want to control all of the cursor setting manually through\n",
       "                 * the 'cursor' event from matplotlib */\n",
       "                event.preventDefault()\n",
       "                return fig.mouse_event(event, name);\n",
       "            };\n",
       "        } else {\n",
       "            return function (event) {\n",
       "                return fig.mouse_event(event, name);\n",
       "            };\n",
       "        }\n",
       "    }\n",
       "\n",
       "    canvas_div.addEventListener(\n",
       "        'mousedown',\n",
       "        on_mouse_event_closure('button_press')\n",
       "    );\n",
       "    canvas_div.addEventListener(\n",
       "        'mouseup',\n",
       "        on_mouse_event_closure('button_release')\n",
       "    );\n",
       "    canvas_div.addEventListener(\n",
       "        'dblclick',\n",
       "        on_mouse_event_closure('dblclick')\n",
       "    );\n",
       "    // Throttle sequential mouse events to 1 every 20ms.\n",
       "    canvas_div.addEventListener(\n",
       "        'mousemove',\n",
       "        on_mouse_event_closure('motion_notify')\n",
       "    );\n",
       "\n",
       "    canvas_div.addEventListener(\n",
       "        'mouseenter',\n",
       "        on_mouse_event_closure('figure_enter')\n",
       "    );\n",
       "    canvas_div.addEventListener(\n",
       "        'mouseleave',\n",
       "        on_mouse_event_closure('figure_leave')\n",
       "    );\n",
       "\n",
       "    canvas_div.addEventListener('wheel', function (event) {\n",
       "        if (event.deltaY < 0) {\n",
       "            event.step = 1;\n",
       "        } else {\n",
       "            event.step = -1;\n",
       "        }\n",
       "        on_mouse_event_closure('scroll')(event);\n",
       "    });\n",
       "\n",
       "    canvas_div.appendChild(canvas);\n",
       "    canvas_div.appendChild(rubberband_canvas);\n",
       "\n",
       "    this.rubberband_context = rubberband_canvas.getContext('2d');\n",
       "    this.rubberband_context.strokeStyle = '#000000';\n",
       "\n",
       "    this._resize_canvas = function (width, height, forward) {\n",
       "        if (forward) {\n",
       "            canvas_div.style.width = width + 'px';\n",
       "            canvas_div.style.height = height + 'px';\n",
       "        }\n",
       "    };\n",
       "\n",
       "    // Disable right mouse context menu.\n",
       "    canvas_div.addEventListener('contextmenu', function (_e) {\n",
       "        event.preventDefault();\n",
       "        return false;\n",
       "    });\n",
       "\n",
       "    function set_focus() {\n",
       "        canvas.focus();\n",
       "        canvas_div.focus();\n",
       "    }\n",
       "\n",
       "    window.setTimeout(set_focus, 100);\n",
       "};\n",
       "\n",
       "mpl.figure.prototype._init_toolbar = function () {\n",
       "    var fig = this;\n",
       "\n",
       "    var toolbar = document.createElement('div');\n",
       "    toolbar.classList = 'mpl-toolbar';\n",
       "    this.root.appendChild(toolbar);\n",
       "\n",
       "    function on_click_closure(name) {\n",
       "        return function (_event) {\n",
       "            return fig.toolbar_button_onclick(name);\n",
       "        };\n",
       "    }\n",
       "\n",
       "    function on_mouseover_closure(tooltip) {\n",
       "        return function (event) {\n",
       "            if (!event.currentTarget.disabled) {\n",
       "                return fig.toolbar_button_onmouseover(tooltip);\n",
       "            }\n",
       "        };\n",
       "    }\n",
       "\n",
       "    fig.buttons = {};\n",
       "    var buttonGroup = document.createElement('div');\n",
       "    buttonGroup.classList = 'mpl-button-group';\n",
       "    for (var toolbar_ind in mpl.toolbar_items) {\n",
       "        var name = mpl.toolbar_items[toolbar_ind][0];\n",
       "        var tooltip = mpl.toolbar_items[toolbar_ind][1];\n",
       "        var image = mpl.toolbar_items[toolbar_ind][2];\n",
       "        var method_name = mpl.toolbar_items[toolbar_ind][3];\n",
       "\n",
       "        if (!name) {\n",
       "            /* Instead of a spacer, we start a new button group. */\n",
       "            if (buttonGroup.hasChildNodes()) {\n",
       "                toolbar.appendChild(buttonGroup);\n",
       "            }\n",
       "            buttonGroup = document.createElement('div');\n",
       "            buttonGroup.classList = 'mpl-button-group';\n",
       "            continue;\n",
       "        }\n",
       "\n",
       "        var button = (fig.buttons[name] = document.createElement('button'));\n",
       "        button.classList = 'mpl-widget';\n",
       "        button.setAttribute('role', 'button');\n",
       "        button.setAttribute('aria-disabled', 'false');\n",
       "        button.addEventListener('click', on_click_closure(method_name));\n",
       "        button.addEventListener('mouseover', on_mouseover_closure(tooltip));\n",
       "\n",
       "        var icon_img = document.createElement('img');\n",
       "        icon_img.src = '_images/' + image + '.png';\n",
       "        icon_img.srcset = '_images/' + image + '_large.png 2x';\n",
       "        icon_img.alt = tooltip;\n",
       "        button.appendChild(icon_img);\n",
       "\n",
       "        buttonGroup.appendChild(button);\n",
       "    }\n",
       "\n",
       "    if (buttonGroup.hasChildNodes()) {\n",
       "        toolbar.appendChild(buttonGroup);\n",
       "    }\n",
       "\n",
       "    var fmt_picker = document.createElement('select');\n",
       "    fmt_picker.classList = 'mpl-widget';\n",
       "    toolbar.appendChild(fmt_picker);\n",
       "    this.format_dropdown = fmt_picker;\n",
       "\n",
       "    for (var ind in mpl.extensions) {\n",
       "        var fmt = mpl.extensions[ind];\n",
       "        var option = document.createElement('option');\n",
       "        option.selected = fmt === mpl.default_extension;\n",
       "        option.innerHTML = fmt;\n",
       "        fmt_picker.appendChild(option);\n",
       "    }\n",
       "\n",
       "    var status_bar = document.createElement('span');\n",
       "    status_bar.classList = 'mpl-message';\n",
       "    toolbar.appendChild(status_bar);\n",
       "    this.message = status_bar;\n",
       "};\n",
       "\n",
       "mpl.figure.prototype.request_resize = function (x_pixels, y_pixels) {\n",
       "    // Request matplotlib to resize the figure. Matplotlib will then trigger a resize in the client,\n",
       "    // which will in turn request a refresh of the image.\n",
       "    this.send_message('resize', { width: x_pixels, height: y_pixels });\n",
       "};\n",
       "\n",
       "mpl.figure.prototype.send_message = function (type, properties) {\n",
       "    properties['type'] = type;\n",
       "    properties['figure_id'] = this.id;\n",
       "    this.ws.send(JSON.stringify(properties));\n",
       "};\n",
       "\n",
       "mpl.figure.prototype.send_draw_message = function () {\n",
       "    if (!this.waiting) {\n",
       "        this.waiting = true;\n",
       "        this.ws.send(JSON.stringify({ type: 'draw', figure_id: this.id }));\n",
       "    }\n",
       "};\n",
       "\n",
       "mpl.figure.prototype.handle_save = function (fig, _msg) {\n",
       "    var format_dropdown = fig.format_dropdown;\n",
       "    var format = format_dropdown.options[format_dropdown.selectedIndex].value;\n",
       "    fig.ondownload(fig, format);\n",
       "};\n",
       "\n",
       "mpl.figure.prototype.handle_resize = function (fig, msg) {\n",
       "    var size = msg['size'];\n",
       "    if (size[0] !== fig.canvas.width || size[1] !== fig.canvas.height) {\n",
       "        fig._resize_canvas(size[0], size[1], msg['forward']);\n",
       "        fig.send_message('refresh', {});\n",
       "    }\n",
       "};\n",
       "\n",
       "mpl.figure.prototype.handle_rubberband = function (fig, msg) {\n",
       "    var x0 = msg['x0'] / fig.ratio;\n",
       "    var y0 = (fig.canvas.height - msg['y0']) / fig.ratio;\n",
       "    var x1 = msg['x1'] / fig.ratio;\n",
       "    var y1 = (fig.canvas.height - msg['y1']) / fig.ratio;\n",
       "    x0 = Math.floor(x0) + 0.5;\n",
       "    y0 = Math.floor(y0) + 0.5;\n",
       "    x1 = Math.floor(x1) + 0.5;\n",
       "    y1 = Math.floor(y1) + 0.5;\n",
       "    var min_x = Math.min(x0, x1);\n",
       "    var min_y = Math.min(y0, y1);\n",
       "    var width = Math.abs(x1 - x0);\n",
       "    var height = Math.abs(y1 - y0);\n",
       "\n",
       "    fig.rubberband_context.clearRect(\n",
       "        0,\n",
       "        0,\n",
       "        fig.canvas.width / fig.ratio,\n",
       "        fig.canvas.height / fig.ratio\n",
       "    );\n",
       "\n",
       "    fig.rubberband_context.strokeRect(min_x, min_y, width, height);\n",
       "};\n",
       "\n",
       "mpl.figure.prototype.handle_figure_label = function (fig, msg) {\n",
       "    // Updates the figure title.\n",
       "    fig.header.textContent = msg['label'];\n",
       "};\n",
       "\n",
       "mpl.figure.prototype.handle_cursor = function (fig, msg) {\n",
       "    fig.canvas_div.style.cursor = msg['cursor'];\n",
       "};\n",
       "\n",
       "mpl.figure.prototype.handle_message = function (fig, msg) {\n",
       "    fig.message.textContent = msg['message'];\n",
       "};\n",
       "\n",
       "mpl.figure.prototype.handle_draw = function (fig, _msg) {\n",
       "    // Request the server to send over a new figure.\n",
       "    fig.send_draw_message();\n",
       "};\n",
       "\n",
       "mpl.figure.prototype.handle_image_mode = function (fig, msg) {\n",
       "    fig.image_mode = msg['mode'];\n",
       "};\n",
       "\n",
       "mpl.figure.prototype.handle_history_buttons = function (fig, msg) {\n",
       "    for (var key in msg) {\n",
       "        if (!(key in fig.buttons)) {\n",
       "            continue;\n",
       "        }\n",
       "        fig.buttons[key].disabled = !msg[key];\n",
       "        fig.buttons[key].setAttribute('aria-disabled', !msg[key]);\n",
       "    }\n",
       "};\n",
       "\n",
       "mpl.figure.prototype.handle_navigate_mode = function (fig, msg) {\n",
       "    if (msg['mode'] === 'PAN') {\n",
       "        fig.buttons['Pan'].classList.add('active');\n",
       "        fig.buttons['Zoom'].classList.remove('active');\n",
       "    } else if (msg['mode'] === 'ZOOM') {\n",
       "        fig.buttons['Pan'].classList.remove('active');\n",
       "        fig.buttons['Zoom'].classList.add('active');\n",
       "    } else {\n",
       "        fig.buttons['Pan'].classList.remove('active');\n",
       "        fig.buttons['Zoom'].classList.remove('active');\n",
       "    }\n",
       "};\n",
       "\n",
       "mpl.figure.prototype.updated_canvas_event = function () {\n",
       "    // Called whenever the canvas gets updated.\n",
       "    this.send_message('ack', {});\n",
       "};\n",
       "\n",
       "// A function to construct a web socket function for onmessage handling.\n",
       "// Called in the figure constructor.\n",
       "mpl.figure.prototype._make_on_message_function = function (fig) {\n",
       "    return function socket_on_message(evt) {\n",
       "        if (evt.data instanceof Blob) {\n",
       "            var img = evt.data;\n",
       "            if (img.type !== 'image/png') {\n",
       "                /* FIXME: We get \"Resource interpreted as Image but\n",
       "                 * transferred with MIME type text/plain:\" errors on\n",
       "                 * Chrome.  But how to set the MIME type?  It doesn't seem\n",
       "                 * to be part of the websocket stream */\n",
       "                img.type = 'image/png';\n",
       "            }\n",
       "\n",
       "            /* Free the memory for the previous frames */\n",
       "            if (fig.imageObj.src) {\n",
       "                (window.URL || window.webkitURL).revokeObjectURL(\n",
       "                    fig.imageObj.src\n",
       "                );\n",
       "            }\n",
       "\n",
       "            fig.imageObj.src = (window.URL || window.webkitURL).createObjectURL(\n",
       "                img\n",
       "            );\n",
       "            fig.updated_canvas_event();\n",
       "            fig.waiting = false;\n",
       "            return;\n",
       "        } else if (\n",
       "            typeof evt.data === 'string' &&\n",
       "            evt.data.slice(0, 21) === 'data:image/png;base64'\n",
       "        ) {\n",
       "            fig.imageObj.src = evt.data;\n",
       "            fig.updated_canvas_event();\n",
       "            fig.waiting = false;\n",
       "            return;\n",
       "        }\n",
       "\n",
       "        var msg = JSON.parse(evt.data);\n",
       "        var msg_type = msg['type'];\n",
       "\n",
       "        // Call the  \"handle_{type}\" callback, which takes\n",
       "        // the figure and JSON message as its only arguments.\n",
       "        try {\n",
       "            var callback = fig['handle_' + msg_type];\n",
       "        } catch (e) {\n",
       "            console.log(\n",
       "                \"No handler for the '\" + msg_type + \"' message type: \",\n",
       "                msg\n",
       "            );\n",
       "            return;\n",
       "        }\n",
       "\n",
       "        if (callback) {\n",
       "            try {\n",
       "                // console.log(\"Handling '\" + msg_type + \"' message: \", msg);\n",
       "                callback(fig, msg);\n",
       "            } catch (e) {\n",
       "                console.log(\n",
       "                    \"Exception inside the 'handler_\" + msg_type + \"' callback:\",\n",
       "                    e,\n",
       "                    e.stack,\n",
       "                    msg\n",
       "                );\n",
       "            }\n",
       "        }\n",
       "    };\n",
       "};\n",
       "\n",
       "\n",
       "/*\n",
       " * return a copy of an object with only non-object keys\n",
       " * we need this to avoid circular references\n",
       " * https://stackoverflow.com/a/24161582/3208463\n",
       " */\n",
       "function simpleKeys(original) {\n",
       "    return Object.keys(original).reduce(function (obj, key) {\n",
       "        if (typeof original[key] !== 'object') {\n",
       "            obj[key] = original[key];\n",
       "        }\n",
       "        return obj;\n",
       "    }, {});\n",
       "}\n",
       "\n",
       "mpl.figure.prototype.mouse_event = function (event, name) {\n",
       "    if (name === 'button_press') {\n",
       "        this.canvas.focus();\n",
       "        this.canvas_div.focus();\n",
       "    }\n",
       "\n",
       "    // from https://stackoverflow.com/q/1114465\n",
       "    var boundingRect = this.canvas.getBoundingClientRect();\n",
       "    var x = (event.clientX - boundingRect.left) * this.ratio;\n",
       "    var y = (event.clientY - boundingRect.top) * this.ratio;\n",
       "\n",
       "    this.send_message(name, {\n",
       "        x: x,\n",
       "        y: y,\n",
       "        button: event.button,\n",
       "        step: event.step,\n",
       "        guiEvent: simpleKeys(event),\n",
       "    });\n",
       "\n",
       "    return false;\n",
       "};\n",
       "\n",
       "mpl.figure.prototype._key_event_extra = function (_event, _name) {\n",
       "    // Handle any extra behaviour associated with a key event\n",
       "};\n",
       "\n",
       "mpl.figure.prototype.key_event = function (event, name) {\n",
       "    // Prevent repeat events\n",
       "    if (name === 'key_press') {\n",
       "        if (event.key === this._key) {\n",
       "            return;\n",
       "        } else {\n",
       "            this._key = event.key;\n",
       "        }\n",
       "    }\n",
       "    if (name === 'key_release') {\n",
       "        this._key = null;\n",
       "    }\n",
       "\n",
       "    var value = '';\n",
       "    if (event.ctrlKey && event.key !== 'Control') {\n",
       "        value += 'ctrl+';\n",
       "    }\n",
       "    else if (event.altKey && event.key !== 'Alt') {\n",
       "        value += 'alt+';\n",
       "    }\n",
       "    else if (event.shiftKey && event.key !== 'Shift') {\n",
       "        value += 'shift+';\n",
       "    }\n",
       "\n",
       "    value += 'k' + event.key;\n",
       "\n",
       "    this._key_event_extra(event, name);\n",
       "\n",
       "    this.send_message(name, { key: value, guiEvent: simpleKeys(event) });\n",
       "    return false;\n",
       "};\n",
       "\n",
       "mpl.figure.prototype.toolbar_button_onclick = function (name) {\n",
       "    if (name === 'download') {\n",
       "        this.handle_save(this, null);\n",
       "    } else {\n",
       "        this.send_message('toolbar_button', { name: name });\n",
       "    }\n",
       "};\n",
       "\n",
       "mpl.figure.prototype.toolbar_button_onmouseover = function (tooltip) {\n",
       "    this.message.textContent = tooltip;\n",
       "};\n",
       "\n",
       "///////////////// REMAINING CONTENT GENERATED BY embed_js.py /////////////////\n",
       "// prettier-ignore\n",
       "var _JSXTOOLS_RESIZE_OBSERVER=function(A){var t,i=new WeakMap,n=new WeakMap,a=new WeakMap,r=new WeakMap,o=new Set;function s(e){if(!(this instanceof s))throw new TypeError(\"Constructor requires 'new' operator\");i.set(this,e)}function h(){throw new TypeError(\"Function is not a constructor\")}function c(e,t,i,n){e=0 in arguments?Number(arguments[0]):0,t=1 in arguments?Number(arguments[1]):0,i=2 in arguments?Number(arguments[2]):0,n=3 in arguments?Number(arguments[3]):0,this.right=(this.x=this.left=e)+(this.width=i),this.bottom=(this.y=this.top=t)+(this.height=n),Object.freeze(this)}function d(){t=requestAnimationFrame(d);var s=new WeakMap,p=new Set;o.forEach((function(t){r.get(t).forEach((function(i){var r=t instanceof window.SVGElement,o=a.get(t),d=r?0:parseFloat(o.paddingTop),f=r?0:parseFloat(o.paddingRight),l=r?0:parseFloat(o.paddingBottom),u=r?0:parseFloat(o.paddingLeft),g=r?0:parseFloat(o.borderTopWidth),m=r?0:parseFloat(o.borderRightWidth),w=r?0:parseFloat(o.borderBottomWidth),b=u+f,F=d+l,v=(r?0:parseFloat(o.borderLeftWidth))+m,W=g+w,y=r?0:t.offsetHeight-W-t.clientHeight,E=r?0:t.offsetWidth-v-t.clientWidth,R=b+v,z=F+W,M=r?t.width:parseFloat(o.width)-R-E,O=r?t.height:parseFloat(o.height)-z-y;if(n.has(t)){var k=n.get(t);if(k[0]===M&&k[1]===O)return}n.set(t,[M,O]);var S=Object.create(h.prototype);S.target=t,S.contentRect=new c(u,d,M,O),s.has(i)||(s.set(i,[]),p.add(i)),s.get(i).push(S)}))})),p.forEach((function(e){i.get(e).call(e,s.get(e),e)}))}return s.prototype.observe=function(i){if(i instanceof window.Element){r.has(i)||(r.set(i,new Set),o.add(i),a.set(i,window.getComputedStyle(i)));var n=r.get(i);n.has(this)||n.add(this),cancelAnimationFrame(t),t=requestAnimationFrame(d)}},s.prototype.unobserve=function(i){if(i instanceof window.Element&&r.has(i)){var n=r.get(i);n.has(this)&&(n.delete(this),n.size||(r.delete(i),o.delete(i))),n.size||r.delete(i),o.size||cancelAnimationFrame(t)}},A.DOMRectReadOnly=c,A.ResizeObserver=s,A.ResizeObserverEntry=h,A}; // eslint-disable-line\n",
       "mpl.toolbar_items = [[\"Home\", \"Reset original view\", \"fa fa-home\", \"home\"], [\"Back\", \"Back to previous view\", \"fa fa-arrow-left\", \"back\"], [\"Forward\", \"Forward to next view\", \"fa fa-arrow-right\", \"forward\"], [\"\", \"\", \"\", \"\"], [\"Pan\", \"Left button pans, Right button zooms\\nx/y fixes axis, CTRL fixes aspect\", \"fa fa-arrows\", \"pan\"], [\"Zoom\", \"Zoom to rectangle\\nx/y fixes axis\", \"fa fa-square-o\", \"zoom\"], [\"\", \"\", \"\", \"\"], [\"Download\", \"Download plot\", \"fa fa-floppy-o\", \"download\"]];\n",
       "\n",
       "mpl.extensions = [\"eps\", \"jpeg\", \"pgf\", \"pdf\", \"png\", \"ps\", \"raw\", \"svg\", \"tif\", \"webp\"];\n",
       "\n",
       "mpl.default_extension = \"png\";/* global mpl */\n",
       "\n",
       "var comm_websocket_adapter = function (comm) {\n",
       "    // Create a \"websocket\"-like object which calls the given IPython comm\n",
       "    // object with the appropriate methods. Currently this is a non binary\n",
       "    // socket, so there is still some room for performance tuning.\n",
       "    var ws = {};\n",
       "\n",
       "    ws.binaryType = comm.kernel.ws.binaryType;\n",
       "    ws.readyState = comm.kernel.ws.readyState;\n",
       "    function updateReadyState(_event) {\n",
       "        if (comm.kernel.ws) {\n",
       "            ws.readyState = comm.kernel.ws.readyState;\n",
       "        } else {\n",
       "            ws.readyState = 3; // Closed state.\n",
       "        }\n",
       "    }\n",
       "    comm.kernel.ws.addEventListener('open', updateReadyState);\n",
       "    comm.kernel.ws.addEventListener('close', updateReadyState);\n",
       "    comm.kernel.ws.addEventListener('error', updateReadyState);\n",
       "\n",
       "    ws.close = function () {\n",
       "        comm.close();\n",
       "    };\n",
       "    ws.send = function (m) {\n",
       "        //console.log('sending', m);\n",
       "        comm.send(m);\n",
       "    };\n",
       "    // Register the callback with on_msg.\n",
       "    comm.on_msg(function (msg) {\n",
       "        //console.log('receiving', msg['content']['data'], msg);\n",
       "        var data = msg['content']['data'];\n",
       "        if (data['blob'] !== undefined) {\n",
       "            data = {\n",
       "                data: new Blob(msg['buffers'], { type: data['blob'] }),\n",
       "            };\n",
       "        }\n",
       "        // Pass the mpl event to the overridden (by mpl) onmessage function.\n",
       "        ws.onmessage(data);\n",
       "    });\n",
       "    return ws;\n",
       "};\n",
       "\n",
       "mpl.mpl_figure_comm = function (comm, msg) {\n",
       "    // This is the function which gets called when the mpl process\n",
       "    // starts-up an IPython Comm through the \"matplotlib\" channel.\n",
       "\n",
       "    var id = msg.content.data.id;\n",
       "    // Get hold of the div created by the display call when the Comm\n",
       "    // socket was opened in Python.\n",
       "    var element = document.getElementById(id);\n",
       "    var ws_proxy = comm_websocket_adapter(comm);\n",
       "\n",
       "    function ondownload(figure, _format) {\n",
       "        window.open(figure.canvas.toDataURL());\n",
       "    }\n",
       "\n",
       "    var fig = new mpl.figure(id, ws_proxy, ondownload, element);\n",
       "\n",
       "    // Call onopen now - mpl needs it, as it is assuming we've passed it a real\n",
       "    // web socket which is closed, not our websocket->open comm proxy.\n",
       "    ws_proxy.onopen();\n",
       "\n",
       "    fig.parent_element = element;\n",
       "    fig.cell_info = mpl.find_output_cell(\"<div id='\" + id + \"'></div>\");\n",
       "    if (!fig.cell_info) {\n",
       "        console.error('Failed to find cell for figure', id, fig);\n",
       "        return;\n",
       "    }\n",
       "    fig.cell_info[0].output_area.element.on(\n",
       "        'cleared',\n",
       "        { fig: fig },\n",
       "        fig._remove_fig_handler\n",
       "    );\n",
       "};\n",
       "\n",
       "mpl.figure.prototype.handle_close = function (fig, msg) {\n",
       "    var width = fig.canvas.width / fig.ratio;\n",
       "    fig.cell_info[0].output_area.element.off(\n",
       "        'cleared',\n",
       "        fig._remove_fig_handler\n",
       "    );\n",
       "    fig.resizeObserverInstance.unobserve(fig.canvas_div);\n",
       "\n",
       "    // Update the output cell to use the data from the current canvas.\n",
       "    fig.push_to_output();\n",
       "    var dataURL = fig.canvas.toDataURL();\n",
       "    // Re-enable the keyboard manager in IPython - without this line, in FF,\n",
       "    // the notebook keyboard shortcuts fail.\n",
       "    IPython.keyboard_manager.enable();\n",
       "    fig.parent_element.innerHTML =\n",
       "        '<img src=\"' + dataURL + '\" width=\"' + width + '\">';\n",
       "    fig.close_ws(fig, msg);\n",
       "};\n",
       "\n",
       "mpl.figure.prototype.close_ws = function (fig, msg) {\n",
       "    fig.send_message('closing', msg);\n",
       "    // fig.ws.close()\n",
       "};\n",
       "\n",
       "mpl.figure.prototype.push_to_output = function (_remove_interactive) {\n",
       "    // Turn the data on the canvas into data in the output cell.\n",
       "    var width = this.canvas.width / this.ratio;\n",
       "    var dataURL = this.canvas.toDataURL();\n",
       "    this.cell_info[1]['text/html'] =\n",
       "        '<img src=\"' + dataURL + '\" width=\"' + width + '\">';\n",
       "};\n",
       "\n",
       "mpl.figure.prototype.updated_canvas_event = function () {\n",
       "    // Tell IPython that the notebook contents must change.\n",
       "    IPython.notebook.set_dirty(true);\n",
       "    this.send_message('ack', {});\n",
       "    var fig = this;\n",
       "    // Wait a second, then push the new image to the DOM so\n",
       "    // that it is saved nicely (might be nice to debounce this).\n",
       "    setTimeout(function () {\n",
       "        fig.push_to_output();\n",
       "    }, 1000);\n",
       "};\n",
       "\n",
       "mpl.figure.prototype._init_toolbar = function () {\n",
       "    var fig = this;\n",
       "\n",
       "    var toolbar = document.createElement('div');\n",
       "    toolbar.classList = 'btn-toolbar';\n",
       "    this.root.appendChild(toolbar);\n",
       "\n",
       "    function on_click_closure(name) {\n",
       "        return function (_event) {\n",
       "            return fig.toolbar_button_onclick(name);\n",
       "        };\n",
       "    }\n",
       "\n",
       "    function on_mouseover_closure(tooltip) {\n",
       "        return function (event) {\n",
       "            if (!event.currentTarget.disabled) {\n",
       "                return fig.toolbar_button_onmouseover(tooltip);\n",
       "            }\n",
       "        };\n",
       "    }\n",
       "\n",
       "    fig.buttons = {};\n",
       "    var buttonGroup = document.createElement('div');\n",
       "    buttonGroup.classList = 'btn-group';\n",
       "    var button;\n",
       "    for (var toolbar_ind in mpl.toolbar_items) {\n",
       "        var name = mpl.toolbar_items[toolbar_ind][0];\n",
       "        var tooltip = mpl.toolbar_items[toolbar_ind][1];\n",
       "        var image = mpl.toolbar_items[toolbar_ind][2];\n",
       "        var method_name = mpl.toolbar_items[toolbar_ind][3];\n",
       "\n",
       "        if (!name) {\n",
       "            /* Instead of a spacer, we start a new button group. */\n",
       "            if (buttonGroup.hasChildNodes()) {\n",
       "                toolbar.appendChild(buttonGroup);\n",
       "            }\n",
       "            buttonGroup = document.createElement('div');\n",
       "            buttonGroup.classList = 'btn-group';\n",
       "            continue;\n",
       "        }\n",
       "\n",
       "        button = fig.buttons[name] = document.createElement('button');\n",
       "        button.classList = 'btn btn-default';\n",
       "        button.href = '#';\n",
       "        button.title = name;\n",
       "        button.innerHTML = '<i class=\"fa ' + image + ' fa-lg\"></i>';\n",
       "        button.addEventListener('click', on_click_closure(method_name));\n",
       "        button.addEventListener('mouseover', on_mouseover_closure(tooltip));\n",
       "        buttonGroup.appendChild(button);\n",
       "    }\n",
       "\n",
       "    if (buttonGroup.hasChildNodes()) {\n",
       "        toolbar.appendChild(buttonGroup);\n",
       "    }\n",
       "\n",
       "    // Add the status bar.\n",
       "    var status_bar = document.createElement('span');\n",
       "    status_bar.classList = 'mpl-message pull-right';\n",
       "    toolbar.appendChild(status_bar);\n",
       "    this.message = status_bar;\n",
       "\n",
       "    // Add the close button to the window.\n",
       "    var buttongrp = document.createElement('div');\n",
       "    buttongrp.classList = 'btn-group inline pull-right';\n",
       "    button = document.createElement('button');\n",
       "    button.classList = 'btn btn-mini btn-primary';\n",
       "    button.href = '#';\n",
       "    button.title = 'Stop Interaction';\n",
       "    button.innerHTML = '<i class=\"fa fa-power-off icon-remove icon-large\"></i>';\n",
       "    button.addEventListener('click', function (_evt) {\n",
       "        fig.handle_close(fig, {});\n",
       "    });\n",
       "    button.addEventListener(\n",
       "        'mouseover',\n",
       "        on_mouseover_closure('Stop Interaction')\n",
       "    );\n",
       "    buttongrp.appendChild(button);\n",
       "    var titlebar = this.root.querySelector('.ui-dialog-titlebar');\n",
       "    titlebar.insertBefore(buttongrp, titlebar.firstChild);\n",
       "};\n",
       "\n",
       "mpl.figure.prototype._remove_fig_handler = function (event) {\n",
       "    var fig = event.data.fig;\n",
       "    if (event.target !== this) {\n",
       "        // Ignore bubbled events from children.\n",
       "        return;\n",
       "    }\n",
       "    fig.close_ws(fig, {});\n",
       "};\n",
       "\n",
       "mpl.figure.prototype._root_extra_style = function (el) {\n",
       "    el.style.boxSizing = 'content-box'; // override notebook setting of border-box.\n",
       "};\n",
       "\n",
       "mpl.figure.prototype._canvas_extra_style = function (el) {\n",
       "    // this is important to make the div 'focusable\n",
       "    el.setAttribute('tabindex', 0);\n",
       "    // reach out to IPython and tell the keyboard manager to turn it's self\n",
       "    // off when our div gets focus\n",
       "\n",
       "    // location in version 3\n",
       "    if (IPython.notebook.keyboard_manager) {\n",
       "        IPython.notebook.keyboard_manager.register_events(el);\n",
       "    } else {\n",
       "        // location in version 2\n",
       "        IPython.keyboard_manager.register_events(el);\n",
       "    }\n",
       "};\n",
       "\n",
       "mpl.figure.prototype._key_event_extra = function (event, _name) {\n",
       "    // Check for shift+enter\n",
       "    if (event.shiftKey && event.which === 13) {\n",
       "        this.canvas_div.blur();\n",
       "        // select the cell after this one\n",
       "        var index = IPython.notebook.find_cell_index(this.cell_info[0]);\n",
       "        IPython.notebook.select(index + 1);\n",
       "    }\n",
       "};\n",
       "\n",
       "mpl.figure.prototype.handle_save = function (fig, _msg) {\n",
       "    fig.ondownload(fig, null);\n",
       "};\n",
       "\n",
       "mpl.find_output_cell = function (html_output) {\n",
       "    // Return the cell and output element which can be found *uniquely* in the notebook.\n",
       "    // Note - this is a bit hacky, but it is done because the \"notebook_saving.Notebook\"\n",
       "    // IPython event is triggered only after the cells have been serialised, which for\n",
       "    // our purposes (turning an active figure into a static one), is too late.\n",
       "    var cells = IPython.notebook.get_cells();\n",
       "    var ncells = cells.length;\n",
       "    for (var i = 0; i < ncells; i++) {\n",
       "        var cell = cells[i];\n",
       "        if (cell.cell_type === 'code') {\n",
       "            for (var j = 0; j < cell.output_area.outputs.length; j++) {\n",
       "                var data = cell.output_area.outputs[j];\n",
       "                if (data.data) {\n",
       "                    // IPython >= 3 moved mimebundle to data attribute of output\n",
       "                    data = data.data;\n",
       "                }\n",
       "                if (data['text/html'] === html_output) {\n",
       "                    return [cell, data, j];\n",
       "                }\n",
       "            }\n",
       "        }\n",
       "    }\n",
       "};\n",
       "\n",
       "// Register the function which deals with the matplotlib target/channel.\n",
       "// The kernel may be null if the page has been refreshed.\n",
       "if (IPython.notebook.kernel !== null) {\n",
       "    IPython.notebook.kernel.comm_manager.register_target(\n",
       "        'matplotlib',\n",
       "        mpl.mpl_figure_comm\n",
       "    );\n",
       "}\n"
      ],
      "text/plain": [
       "<IPython.core.display.Javascript object>"
      ]
     },
     "metadata": {},
     "output_type": "display_data"
    },
    {
     "data": {
      "text/html": [
       "<img src=\"data:image/png;base64,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\" width=\"640\">"
      ],
      "text/plain": [
       "<IPython.core.display.HTML object>"
      ]
     },
     "metadata": {},
     "output_type": "display_data"
    }
   ],
   "source": [
    "happi.multiSlide(Rho,Env_E)"
   ]
  },
  {
   "cell_type": "code",
   "execution_count": 46,
   "metadata": {
    "slideshow": {
     "slide_type": "slide"
    }
   },
   "outputs": [
    {
     "data": {
      "text/html": [
       "\n",
       "        <iframe\n",
       "            width=\"1200\"\n",
       "            height=\"600\"\n",
       "            src=\"./eScholarship UC item 5wb109v8.pdf\"\n",
       "            frameborder=\"0\"\n",
       "            allowfullscreen\n",
       "            \n",
       "        ></iframe>\n",
       "        "
      ],
      "text/plain": [
       "<IPython.lib.display.IFrame at 0xfffedecd57c0>"
      ]
     },
     "execution_count": 46,
     "metadata": {},
     "output_type": "execute_result"
    }
   ],
   "source": [
    "from IPython.display import IFrame\n",
    "IFrame('./eScholarship UC item 5wb109v8.pdf', width=1200, height=600)"
   ]
  },
  {
   "cell_type": "markdown",
   "metadata": {
    "slideshow": {
     "slide_type": "slide"
    }
   },
   "source": [
    "# Image Credits\n",
    "* Dr. Otto Octavius \n",
    "    * https://tenor.com/view/the-power-of-the-sun-in-the-palm-of-my-hand-doctor-octopus-doc-ock-otto-octavius-spider-man-no-way-home-gif-25180157\n",
    "* Binding Energy\n",
    "    * https://en.wikipedia.org/wiki/Nuclear_fusion#/media/File:Binding_energy_curve_-_common_isotopes.svg\n",
    "* Smiling Sun\n",
    "    * https://solarsystem.nasa.gov/solar-system/sun/overview/\n",
    "* ITER\n",
    "    * https://www.iter.org/proj/inafewlines\n"
   ]
  },
  {
   "cell_type": "markdown",
   "metadata": {
    "slideshow": {
     "slide_type": "subslide"
    }
   },
   "source": [
    "* NIF\n",
    "    * https://lasers.llnl.gov/about/seven-wonders\n",
    "* DT Fusion\n",
    "    * https://en.wikipedia.org/wiki/Deuterium%E2%80%93tritium_fusion#/media/File:Deuterium-tritium_fusion.svg\n",
    "* ICF Implosion and Direct/Indirect Drive photos\n",
    "    * `Badziak, J.. (2012). Laser nuclear fusion: Current status, challenges and prospect. Bulletin of the Polish Academy of Sciences, Technical Sciences. 60. 729. 10.2478/v10175-012-0084-8. `\n",
    "    * https://journals.pan.pl/dlibra/publication/96903/edition/83651/content\n",
    "* Fuel Capsule Layers\n",
    "    * National Academies: https://nap.nationalacademies.org/read/18288/chapter/4\n",
    "* Spatial Filter Lion Image:\n",
    "    * https://lasers.llnl.gov/media/photo-gallery"
   ]
  },
  {
   "cell_type": "markdown",
   "metadata": {
    "slideshow": {
     "slide_type": "subslide"
    }
   },
   "source": [
    "* KDP Crystals\n",
    "    * https://commons.wikimedia.org/wiki/File:KDP_crystal.jpg\n",
    "    * https://www.photonics.com/Articles/Cleveland_Crystals_Small_Firm_with_a_Big_Role_in/a30633\n",
    "* Capacitor Bay\n",
    "    * https://lasers.llnl.gov/about/how-nif-works/power-conditioning\n",
    "* Final Optics\n",
    "    * https://lasers.llnl.gov/about/how-nif-works/final-optics\n",
    "* Master Oscillator\n",
    "    * https://lasers.llnl.gov/about/how-nif-works/injection-laser-system\n",
    "* Pockell Cell and Polarizer\n",
    "    * https://apps.dtic.mil/sti/pdfs/ADA609999.pdf"
   ]
  },
  {
   "cell_type": "markdown",
   "metadata": {},
   "source": [
    "# Sources and Further Reading\n",
    "\n",
    "* NIF User Guide (For scientists):\n",
    "    * https://nifuserguide.llnl.gov/\n",
    "* NIF General Public Page:\n",
    "    * https://lasers.llnl.gov/about/what-is-nif\n",
    "* Optical Engineering of the NIF\n",
    "    * https://www.spiedigitallibrary.org/conference-proceedings-of-SPIE/5001?webSyncID=024ddbc2-7cdd-42e4-d28c-c7a6109d29bb&sessionGUID=13628c99-d178-288d-9e26-998d2d18b0c2&_ga=2.95623509.811125676.1664057879-1230779701.1664057879&cm_mc_uid=37792490894716640578790&cm_mc_sid_50300000=68086551664057879099&SSO=1\n",
    "    * https://www.spiedigitallibrary.org/conference-proceedings-of-SPIE/5341?webSyncID=024ddbc2-7cdd-42e4-d28c-c7a6109d29bb&sessionGUID=13628c99-d178-288d-9e26-998d2d18b0c2&_ga=2.61414885.811125676.1664057879-1230779701.1664057879&cm_mc_uid=37792490894716640578790&cm_mc_sid_50300000=68086551664057879099#KeynoteSession\n",
    "* 2022 SULI Inertial Confinement Fusion Presentation\n",
    "    * https://suli.pppl.gov/2022/course/Kraus_icfIntro_SULItalks2022_220615.pdf\n",
    "* 2020 SULI Inertial Confinement Fusion Presentation\n",
    "    * https://suli.pppl.gov/2020/course/Ma_IFE_SULI2020_20200626.pdf\n",
    "* Simulate Wakefield Acceleration:\n",
    "    * https://smileipic.github.io/tutorials/advanced_wakefield.html\n",
    " "
   ]
  },
  {
   "cell_type": "code",
   "execution_count": null,
   "metadata": {},
   "outputs": [],
   "source": []
  }
 ],
 "metadata": {
  "celltoolbar": "Slideshow",
  "kernelspec": {
   "display_name": "Python 3 (ipykernel)",
   "language": "python",
   "name": "python3"
  },
  "language_info": {
   "codemirror_mode": {
    "name": "ipython",
    "version": 3
   },
   "file_extension": ".py",
   "mimetype": "text/x-python",
   "name": "python",
   "nbconvert_exporter": "python",
   "pygments_lexer": "ipython3",
   "version": "3.8.12"
  },
  "widgets": {
   "application/vnd.jupyter.widget-state+json": {
    "state": {},
    "version_major": 2,
    "version_minor": 0
   }
  }
 },
 "nbformat": 4,
 "nbformat_minor": 2
}
